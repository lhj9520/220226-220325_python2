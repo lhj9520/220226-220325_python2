{
 "cells": [
  {
   "cell_type": "code",
   "execution_count": 2,
   "metadata": {},
   "outputs": [
    {
     "name": "stdout",
     "output_type": "stream",
     "text": [
      "call fun1!\n",
      "func 함수가 호출되었습니다.\n"
     ]
    },
    {
     "ename": "ImportError",
     "evalue": "cannot import name 'f1' from 'test' (c:\\220227_pytest\\test.py)",
     "output_type": "error",
     "traceback": [
      "\u001b[1;31m---------------------------------------------------------------------------\u001b[0m",
      "\u001b[1;31mImportError\u001b[0m                               Traceback (most recent call last)",
      "\u001b[1;32mc:\\220227_pytest\\test.ipynb Cell 1'\u001b[0m in \u001b[0;36m<cell line: 16>\u001b[1;34m()\u001b[0m\n\u001b[0;32m     <a href='vscode-notebook-cell:/c%3A/220227_pytest/test.ipynb#ch0000000?line=11'>12</a>\u001b[0m \u001b[39mimport\u001b[39;00m \u001b[39mfunc_test\u001b[39;00m\n\u001b[0;32m     <a href='vscode-notebook-cell:/c%3A/220227_pytest/test.ipynb#ch0000000?line=13'>14</a>\u001b[0m \u001b[39mprint\u001b[39m(func_test\u001b[39m.\u001b[39mfunc())\n\u001b[1;32m---> <a href='vscode-notebook-cell:/c%3A/220227_pytest/test.ipynb#ch0000000?line=15'>16</a>\u001b[0m \u001b[39mfrom\u001b[39;00m \u001b[39mtest\u001b[39;00m \u001b[39mimport\u001b[39;00m f1,f4\n\u001b[0;32m     <a href='vscode-notebook-cell:/c%3A/220227_pytest/test.ipynb#ch0000000?line=17'>18</a>\u001b[0m \u001b[39mprint\u001b[39m(f1())\n",
      "\u001b[1;31mImportError\u001b[0m: cannot import name 'f1' from 'test' (c:\\220227_pytest\\test.py)"
     ]
    }
   ],
   "source": [
    "import sys\n",
    "\n",
    "# print(sys.path)\n",
    "sys.path.append('C:\\220227_pytest\\module_test')\n",
    "sys.path.append('C:\\220227_pytest\\func_test')\n",
    "sys.path.append('C:\\220227_pytest\\test')\n",
    "\n",
    "import module_test\n",
    "\n",
    "print(module_test.fun1())\n",
    "\n",
    "import func_test\n",
    "\n",
    "print(func_test.func())\n",
    "\n",
    "from test import f1,f4\n",
    "\n",
    "print(f1())"
   ]
  },
  {
   "cell_type": "code",
   "execution_count": 5,
   "metadata": {},
   "outputs": [
    {
     "name": "stdout",
     "output_type": "stream",
     "text": [
      "5 나누기 3 결과값: 1.6666666666666667\n",
      "결과값 버림 :  1\n",
      "5\n",
      "4\n"
     ]
    }
   ],
   "source": [
    "import math as m\n",
    "\n",
    "num1 = 3\n",
    "num2 = 5\n",
    "print(f\"{num2} 나누기 {num1} 결과값: {num2/num1}\")\n",
    "print(\"결과값 버림 : \",m.trunc(num2/num1))"
   ]
  },
  {
   "cell_type": "code",
   "execution_count": 7,
   "metadata": {},
   "outputs": [
    {
     "name": "stdout",
     "output_type": "stream",
     "text": [
      "총 2페이지까지 갖고 있어야 볼 수 있습니다.\n"
     ]
    }
   ],
   "source": [
    "import math as m\n",
    "cnt = int(input(\"몇건의 데이터를 수집할까요? : \"))\n",
    "page_cnt = m.ceil(cnt/10)\n",
    "print(\"총 %s페이지까지 갖고 있어야 볼 수 있습니다.\" %page_cnt)"
   ]
  },
  {
   "cell_type": "code",
   "execution_count": 9,
   "metadata": {},
   "outputs": [
    {
     "name": "stdout",
     "output_type": "stream",
     "text": [
      "5.2 보다 작은 가까운 정수는 5 입니다.\n",
      "5.9 보다 작은 가까운 정수는 5 입니다.\n"
     ]
    }
   ],
   "source": [
    "import math as m\n",
    "num1 = 5.2\n",
    "num2 = 5.9\n",
    "print(\"%s 보다 작은 가까운 정수는 %s 입니다.\" %(num1, m.floor(num1)))\n",
    "print(\"%s 보다 작은 가까운 정수는 %s 입니다.\" %(num2, m.floor(num2)))"
   ]
  },
  {
   "cell_type": "code",
   "execution_count": 2,
   "metadata": {},
   "outputs": [
    {
     "name": "stdout",
     "output_type": "stream",
     "text": [
      "8\n",
      "-2\n",
      "15\n",
      "0.6\n"
     ]
    }
   ],
   "source": [
    "import test\n",
    "print(test.plus(3,5))\n",
    "print(test.minus(3,5))\n",
    "print(test.mul(3,5))\n",
    "print(test.div(3,5))"
   ]
  },
  {
   "cell_type": "code",
   "execution_count": 3,
   "metadata": {},
   "outputs": [
    {
     "name": "stdout",
     "output_type": "stream",
     "text": [
      "이름 : 이순신, 공격력 : 20, 방어력 : 10 \n",
      "이순신이 20의 데미지를 입힙니다.\n",
      "이순신이 10의 데미지를 방어합니다.\n"
     ]
    }
   ],
   "source": [
    "import module_test as w\n",
    "w1 = w.Warrior(\"이순신\", 20, 10)\n",
    "w1.status()\n",
    "w1.attack()\n",
    "w1.defense()"
   ]
  },
  {
   "cell_type": "code",
   "execution_count": 14,
   "metadata": {},
   "outputs": [
    {
     "name": "stdout",
     "output_type": "stream",
     "text": [
      "c:\\220227_pytest\n"
     ]
    },
    {
     "ename": "FileExistsError",
     "evalue": "[WinError 183] 파일이 이미 있으므로 만들 수 없습니다: 'c:\\\\220227_pytest\\\\mkdir_test'",
     "output_type": "error",
     "traceback": [
      "\u001b[1;31m---------------------------------------------------------------------------\u001b[0m",
      "\u001b[1;31mFileExistsError\u001b[0m                           Traceback (most recent call last)",
      "\u001b[1;32mc:\\220227_pytest\\test.ipynb Cell 7'\u001b[0m in \u001b[0;36m<cell line: 5>\u001b[1;34m()\u001b[0m\n\u001b[0;32m      <a href='vscode-notebook-cell:/c%3A/220227_pytest/test.ipynb#ch0000006?line=1'>2</a>\u001b[0m \u001b[39mimport\u001b[39;00m \u001b[39mos\u001b[39;00m\n\u001b[0;32m      <a href='vscode-notebook-cell:/c%3A/220227_pytest/test.ipynb#ch0000006?line=3'>4</a>\u001b[0m \u001b[39mprint\u001b[39m(os\u001b[39m.\u001b[39mgetcwd()) \u001b[39m# 현재 디렉토리\u001b[39;00m\n\u001b[1;32m----> <a href='vscode-notebook-cell:/c%3A/220227_pytest/test.ipynb#ch0000006?line=4'>5</a>\u001b[0m os\u001b[39m.\u001b[39mmkdir(\u001b[39m'\u001b[39m\u001b[39mc:\u001b[39m\u001b[39m\\\\\u001b[39;00m\u001b[39m220227_pytest\u001b[39m\u001b[39m\\\u001b[39m\u001b[39mmkdir_test\u001b[39m\u001b[39m'\u001b[39m) \u001b[39m# 디렉토리 생성 -> 경로 마지막에 지정한 디렉토리만 생성, 지정된 경로가 존재하지 않으면 하위 디렉토리 생성 안됨\u001b[39;00m\n\u001b[0;32m      <a href='vscode-notebook-cell:/c%3A/220227_pytest/test.ipynb#ch0000006?line=5'>6</a>\u001b[0m os\u001b[39m.\u001b[39mmakedirs(\u001b[39m'\u001b[39m\u001b[39mc:\u001b[39m\u001b[39m\\\\\u001b[39;00m\u001b[39m220227_pytest\u001b[39m\u001b[39m\\\u001b[39m\u001b[39mmakedirs_test\u001b[39m\u001b[39m\\\u001b[39m\u001b[39mmakedirs2\u001b[39m\u001b[39m'\u001b[39m)\n",
      "\u001b[1;31mFileExistsError\u001b[0m: [WinError 183] 파일이 이미 있으므로 만들 수 없습니다: 'c:\\\\220227_pytest\\\\mkdir_test'"
     ]
    }
   ],
   "source": [
    "#2022-03-12  module\n",
    "import os\n",
    "\n",
    "print(os.getcwd()) # 현재 디렉토리\n",
    "os.mkdir('c:\\\\220227_pytest\\mkdir_test') # 디렉토리 생성 -> 경로 마지막에 지정한 디렉토리만 생성, 지정된 경로가 존재하지 않으면 하위 디렉토리 생성 안됨\n",
    "os.makedirs('c:\\\\220227_pytest\\makedirs_test\\makedirs2') # 디렉토리 생성 ->  경로에 있는 모든 디렉토리 생성, 하위 디렉토리 포함\n",
    "# mkdir,makedirs 생성하려는 디렉토리가 이미 존재 시 생성되지 않음 -> 파일이 이미 있으므로 만들 수 없습니다. error 발생"
   ]
  },
  {
   "cell_type": "code",
   "execution_count": null,
   "metadata": {},
   "outputs": [],
   "source": [
    "import os\n",
    "\n",
    "os.rmdir('c:\\\\220227_pytest\\mkdir_test') # 디렉토리 삭제 -> 경로에 지정한 디렉토리만 삭제, 하위 디렉토리 삭제 안됨\n",
    "os.removedirs() # 디렉토리 삭제 ->  경로에 있는 모든 디렉토리 삭제, 하위 디렉토리 포함\n",
    "# rmdir,removedirs 삭제하려는 디렉토리가 비어있지 않은 경우 삭제 불가"
   ]
  },
  {
   "cell_type": "code",
   "execution_count": null,
   "metadata": {},
   "outputs": [],
   "source": [
    "import os\n",
    "\n",
    "#chdir 현재 디렉토리 이동 -> 입력한 폴더로 이동\n",
    "os.listdir(os.getcwd()) #입력한 경로의 파일과 디렉토리 목록을 리스트로 반환\n",
    "for i in os.listdir(os.getcwd()):\n",
    "    print(i)"
   ]
  },
  {
   "cell_type": "code",
   "execution_count": null,
   "metadata": {},
   "outputs": [],
   "source": [
    "import os\n",
    "\n",
    "#특정 디렉토리가 있는지 확인해주는 함수, 반환값 True, False\n",
    "print('c:\\\\220227_pytest-->',os.path.exists('c:\\\\220227_pytest'))\n",
    "print('c:\\\\220227_pytest\\mkdirtest-->',os.path.exists('c:\\\\220227_pytest\\mkdirtest'))\n",
    "#괄호 안에 디렉토리가 있으면 True, 없으면 False 반환\n",
    "print('c:\\\\220227_pytest-->',os.path.isdir('c:\\\\220227_pytest'))"
   ]
  },
  {
   "cell_type": "code",
   "execution_count": 28,
   "metadata": {},
   "outputs": [],
   "source": [
    "\"\"\"\n",
    "파일 입출력 모드\n",
    "t text(default)\n",
    "b binary\n",
    "r read\n",
    "w write\n",
    "a 이어쓰기\n",
    "+ read, write\n",
    "\"\"\"\n",
    "\n",
    "\"\"\"\n",
    "#파일 저장 기본문법 => open('파일경로/파일이름.확장자','모드')\n",
    "write()\n",
    "wb 2진수 쓰기\n",
    "wt 문자 쓰기\n",
    "rb 2진수 읽기\n",
    "rt 문자 읽기\n",
    "close()\n",
    "\"\"\"\n",
    "f1 = open(\"test.txt\",\"wt\")\n",
    "f1.write(\"hello\")\n",
    "f1.write(\"bye\")\n",
    "f1.close()"
   ]
  },
  {
   "cell_type": "code",
   "execution_count": 37,
   "metadata": {},
   "outputs": [],
   "source": [
    "#readline() 파일 내용 한줄씩 읽기\n",
    "#read() 파일안에있는 전체 내용 읽기\n",
    "\n",
    "f1 = open(\"test.txt\",\"rt\")\n",
    "# print(f1.read())\n",
    "# print(f1.readline())\n",
    "# print(f1.readline())\n",
    "# print(f1.readline())\n",
    "f1.close()"
   ]
  },
  {
   "cell_type": "code",
   "execution_count": 39,
   "metadata": {},
   "outputs": [],
   "source": [
    "f3 = open(\"apple.jpg\",\"rb\")\n",
    "# print(f3.read())\n",
    "img = f3.read()\n",
    "f3.close()\n",
    "\n",
    "f4 = open(\"apple_copy.jpg\",\"wb\")\n",
    "f4.write(img)\n",
    "f4.close()"
   ]
  },
  {
   "cell_type": "code",
   "execution_count": 41,
   "metadata": {},
   "outputs": [],
   "source": [
    "#test.txt 파일을 생성하세요.\n",
    "f = open(\"test.txt\",\"wt\")"
   ]
  },
  {
   "cell_type": "code",
   "execution_count": 48,
   "metadata": {},
   "outputs": [],
   "source": [
    "#반복문을 이용해서 파일 5개를 생성하세요.\n",
    "for i in range(5):\n",
    "    filename = \"test%d.txt\" % (i+1)\n",
    "    open(filename,\"wt\")"
   ]
  },
  {
   "cell_type": "code",
   "execution_count": 51,
   "metadata": {},
   "outputs": [],
   "source": [
    "#test1.txt 파일에 hello world를 저장해주세요.\n",
    "f = open('test1.txt','wt')\n",
    "f.write(\"hello world\")\n",
    "f.close()"
   ]
  },
  {
   "cell_type": "code",
   "execution_count": 56,
   "metadata": {},
   "outputs": [],
   "source": [
    "#test2.txt 파일에는 줄바꿈을 적용해서\n",
    "'''\n",
    "안녕하세요.\n",
    "저는 홍길동입니다.\n",
    "나이는 23살입니다.\n",
    "잘부탁드립니다.\n",
    "'''\n",
    "f = open('test2.txt','w', encoding=\"UTF-8\")\n",
    "f.write(\"안녕하세요.\\n\")\n",
    "f.write(\"저는 홍길동입니다.\\n\")\n",
    "f.write(\"나이는 23살입니다.\\n\")\n",
    "f.write(\"잘부탁드립니다.\\n\")\n",
    "f.close()"
   ]
  },
  {
   "cell_type": "code",
   "execution_count": 60,
   "metadata": {},
   "outputs": [
    {
     "name": "stdout",
     "output_type": "stream",
     "text": [
      "['안녕하세요.\\n', '저는 홍길동입니다.\\n', '나이는 23살입니다.\\n', '잘부탁드립니다.\\n']\n",
      "안녕하세요.\n",
      "\n",
      "안녕하세요.\n",
      "\n",
      "저는 홍길동입니다.\n",
      "\n",
      "나이는 23살입니다.\n",
      "\n",
      "잘부탁드립니다.\n",
      "\n"
     ]
    }
   ],
   "source": [
    "f = open(\"test2.txt\",\"r\",encoding=\"UTF-8\")\n",
    "line = f.readlines()\n",
    "print(line)\n",
    "print(line[0])\n",
    "for i in line:\n",
    "    print(i)\n",
    "#웹크롤러 만들 때 검색어 키워드나 주소를 파일에 저장하고 불러와서 자동으로 실행 시킬 때 자주 사용"
   ]
  },
  {
   "cell_type": "code",
   "execution_count": null,
   "metadata": {},
   "outputs": [],
   "source": [
    "#엑셀 .xls 확장자\n",
    "#pip install numpy\n",
    "#pip isntall pandas\n",
    "#pip isntall openpyxl"
   ]
  }
 ],
 "metadata": {
  "interpreter": {
   "hash": "485035c5b2a6f2b50dc2dc5ca51aeeb931032fbc9adc2e30c7c528d6bf8a9176"
  },
  "kernelspec": {
   "display_name": "Python 3.9.7 ('base')",
   "language": "python",
   "name": "python3"
  },
  "language_info": {
   "codemirror_mode": {
    "name": "ipython",
    "version": 3
   },
   "file_extension": ".py",
   "mimetype": "text/x-python",
   "name": "python",
   "nbconvert_exporter": "python",
   "pygments_lexer": "ipython3",
   "version": "3.10.2"
  },
  "orig_nbformat": 4
 },
 "nbformat": 4,
 "nbformat_minor": 2
}
