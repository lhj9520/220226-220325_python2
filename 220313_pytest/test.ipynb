{
 "cells": [
  {
   "cell_type": "code",
   "execution_count": 9,
   "metadata": {},
   "outputs": [],
   "source": [
    "# https://openpyxl.readthedocs.io/en/stable/tutorial.html#create-a-workbook\n",
    "# openpyxl module import\n",
    "from openpyxl import *\n",
    "\n",
    "# 엑셀 추가\n",
    "w1 = Workbook()\n",
    "ws = w1.active\n",
    "# 엑셀 저장\n",
    "w1.save(\"test.xlsx\")\n",
    "\n",
    "# 엑셀 로드\n",
    "w2 = load_workbook(\"test.xlsx\")\n",
    "ws2 = w2.active\n",
    "# 셀을 선택해서 편집\n",
    "# ws2['A1'] = \"Hello\"\n",
    "# ws2['B4'] = \"world\"\n",
    "# ws2['C2'] = 12345\n",
    "# ws2.cell(row=4, column=2, value=10)\n",
    "# 엑셀 파일 저장\n",
    "# w2.save(\"test.xlsx\")\n"
   ]
  },
  {
   "cell_type": "code",
   "execution_count": 1,
   "metadata": {},
   "outputs": [
    {
     "name": "stdout",
     "output_type": "stream",
     "text": [
      "7\n",
      "8\n",
      "9\n",
      "4\n",
      "5\n",
      "6\n",
      "1\n",
      "2\n",
      "3\n"
     ]
    }
   ],
   "source": [
    "from openpyxl import *\n",
    "\n",
    "# print(ws2['A1':'C3'])\n",
    "\n",
    "# text = 'aaa'\n",
    "# for row in ws2['A1':'C3']:\n",
    "#     print(row)\n",
    "#     for cell in row:\n",
    "#         cell.value = num\n",
    "# w2.save(\"test.xlsx\")\n",
    "\n",
    "# num = 1\n",
    "# for row in ws2['A1':'C3']:\n",
    "#     for cell in row:\n",
    "#         cell.value = num\n",
    "#         num += 1\n",
    "# w2.save(\"test.xlsx\")\n",
    "\n",
    "# 월하는 만큼 셀을 조회\n",
    "\n",
    "# w2 = load_workbook(\"test.xlsx\")\n",
    "# ws2 = w2.active\n",
    "\n",
    "# for row in ws2.iter_rows(min_row=1, min_col=1, max_col=3, max_row=3):\n",
    "#     for cell in row:\n",
    "#         print(cell.value)\n",
    "\n",
    "# ws_new = w2.create_sheet()\n",
    "# w2.save(\"test.xlsx\")\n",
    "\n",
    "# 신규 엑셀 시트 생성\n",
    "# 새로운 엑셀 시트는 가장 마지막 탭에 생성된다.\n",
    "# ws_new = w2.create_sheet()\n",
    "# # 시트 이름 변경\n",
    "# ws2.title = \"1번시트\"\n",
    "# ws_new = \"2번시트\"\n",
    "# # 원하는 위치에\n",
    "# ws_new = w2.create_sheet('0번시트',0)\n",
    "# w2.save(\"test.xlsx\")"
   ]
  },
  {
   "cell_type": "code",
   "execution_count": 38,
   "metadata": {},
   "outputs": [],
   "source": [
    "from openpyxl import *\n",
    "item1 = {\"품목\":\"바나나\",\"가격\":3000,\"수량\":5,\"날짜\":\"2022년03월13일\"}\n",
    "item2 = {\"품목\":\"생수\",\"가격\":800,\"수량\":3,\"날짜\":\"2021년09월15일\"}\n",
    "item3 = {\"품목\":\"라면\",\"가격\":780,\"수량\":10,\"날짜\":\"2022년01월20일\"}\n",
    "item4 = {\"품목\":\"과자\",\"가격\":1000,\"수량\":30,\"날짜\":\"2021년08월30일\"}\n",
    "header = ['품목', '가격', '수량', '날짜']\n",
    "items = [item1,item2,item3,item4]\n",
    "\n",
    "# 1. 엑셀 파일 로드\n",
    "w2 = load_workbook(\"test.xlsx\")\n",
    "ws2 = w2.active\n",
    "\n",
    "# # header 항목 추가\n",
    "# for i in range(len(header)):\n",
    "#     # print(header)\n",
    "#     ws2.cell(row=1,column=i+1,value= header[i])\n",
    "\n",
    "# # item 추가\n",
    "\n",
    "# for i in range(len(items)):\n",
    "#     # print(i, items[i])\n",
    "#     for v in items[i].values():\n",
    "#         # print(v)\n",
    "#         col = list(items[i].values()).index(v)\n",
    "#         ws2.cell(row=i+2,column=col+1,value=v)\n",
    "        \n",
    "# w2.save(\"test.xlsx\")\n",
    "\n",
    "# 2. 헤더 만들기\n",
    "ws2['A1'] = \"품목\"\n",
    "ws2['B1'] = \"가격\"\n",
    "ws2['C1'] = \"수량\"\n",
    "ws2['D1'] = \"날짜\"\n",
    "\n",
    "# 3.데이터 삽입\n",
    "i = 2\n",
    "for item in items:\n",
    "    ws2[\"A\"+str(i)] = item[\"품목\"]\n",
    "    ws2[\"B\"+str(i)] = item[\"가격\"]\n",
    "    ws2[\"C\"+str(i)] = item[\"수량\"]\n",
    "    ws2[\"D\"+str(i)] = item[\"날짜\"]\n",
    "    i += 1\n",
    "\n",
    "w2.save(\"test.xlsx\")"
   ]
  },
  {
   "cell_type": "code",
   "execution_count": 2,
   "metadata": {},
   "outputs": [
    {
     "name": "stdout",
     "output_type": "stream",
     "text": [
      "5초후 출력됩니다.\n"
     ]
    }
   ],
   "source": [
    "import time\n",
    "\n",
    "time.sleep(5)\n",
    "\n",
    "print(\"5초후 출력됩니다.\")"
   ]
  },
  {
   "cell_type": "code",
   "execution_count": null,
   "metadata": {},
   "outputs": [],
   "source": [
    "#pip install requests\n",
    "#pip install bs4\n",
    "#requests 모듈 => 웹페이지를 요청하고 응답 데이터를 받을 수 있음\n",
    "#beautifulsoup 모듈\n",
    "# https://docs.python-requests.org/en/master/user/quickstart/\n",
    "# https://www.crummy.com/software/BeautifulSoup/bs4/doc/"
   ]
  }
 ],
 "metadata": {
  "interpreter": {
   "hash": "4e0b39fdc4f2df2992ef135d097972ec225e019845a073717c5b1bc8df292c8a"
  },
  "kernelspec": {
   "display_name": "Python 3.10.2 64-bit",
   "language": "python",
   "name": "python3"
  },
  "language_info": {
   "codemirror_mode": {
    "name": "ipython",
    "version": 3
   },
   "file_extension": ".py",
   "mimetype": "text/x-python",
   "name": "python",
   "nbconvert_exporter": "python",
   "pygments_lexer": "ipython3",
   "version": "3.10.2"
  },
  "orig_nbformat": 4
 },
 "nbformat": 4,
 "nbformat_minor": 2
}
