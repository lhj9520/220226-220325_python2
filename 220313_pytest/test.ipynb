{
 "cells": [
  {
   "cell_type": "code",
   "execution_count": 9,
   "metadata": {},
   "outputs": [],
   "source": [
    "# openpyxl module import\n",
    "from openpyxl import *\n",
    "\n",
    "# 엑셀 추가\n",
    "w1 = Workbook()\n",
    "ws = w1.active\n",
    "# 엑셀 저장\n",
    "w1.save(\"test.xlsx\")\n",
    "\n",
    "# 엑셀 로드\n",
    "w2 = load_workbook(\"test.xlsx\")\n",
    "ws2 = w2.active\n",
    "# 셀을 선택해서 편집\n",
    "# ws2['A1'] = \"Hello\"\n",
    "# ws2['B4'] = \"world\"\n",
    "# ws2['C2'] = 12345\n",
    "# ws2.cell(row=4, column=2, value=10)\n",
    "# 엑셀 파일 저장\n",
    "# w2.save(\"test.xlsx\")\n"
   ]
  },
  {
   "cell_type": "code",
   "execution_count": 2,
   "metadata": {},
   "outputs": [
    {
     "name": "stdout",
     "output_type": "stream",
     "text": [
      "7\n",
      "8\n",
      "9\n",
      "4\n",
      "5\n",
      "6\n",
      "1\n",
      "2\n",
      "3\n"
     ]
    }
   ],
   "source": [
    "from openpyxl import *\n",
    "\n",
    "# print(ws2['A1':'C3'])\n",
    "\n",
    "# text = 'aaa'\n",
    "# for row in ws2['A1':'C3']:\n",
    "#     print(row)\n",
    "#     for cell in row:\n",
    "#         cell.value = num\n",
    "# w2.save(\"test.xlsx\")\n",
    "\n",
    "# num = 1\n",
    "# for row in ws2['A1':'C3']:\n",
    "#     for cell in row:\n",
    "#         cell.value = num\n",
    "#         num += 1\n",
    "# w2.save(\"test.xlsx\")\n",
    "\n",
    "# 월하는 만큼 셀을 조회\n",
    "\n",
    "w2 = load_workbook(\"test.xlsx\")\n",
    "ws2 = w2.active\n",
    "\n",
    "for row in ws2.iter_rows(min_row=1, min_col=1, max_col=3, max_row=3):\n",
    "    for cell in row:\n",
    "        print(cell.value)\n",
    "\n",
    "# ws_new = w2.create_sheet()\n",
    "# w2.save(\"test.xlsx\")\n",
    "\n",
    "# 신규 엑셀 시트 생성\n",
    "# 새로운 엑셀 시트는 가장 마지막 탭에 생성된다.\n",
    "ws_new = w2.create_sheet()\n",
    "# 시트 이름 변경\n",
    "ws2.title = \"1번시트\"\n",
    "ws_new = \"2번시트\"\n",
    "# 원하는 위치에\n",
    "ws_new = w2.create_sheet('0번시트',0)\n",
    "w2.save(\"test.xlsx\")"
   ]
  },
  {
   "cell_type": "code",
   "execution_count": null,
   "metadata": {},
   "outputs": [],
   "source": []
  }
 ],
 "metadata": {
  "interpreter": {
   "hash": "4e0b39fdc4f2df2992ef135d097972ec225e019845a073717c5b1bc8df292c8a"
  },
  "kernelspec": {
   "display_name": "Python 3.10.2 64-bit",
   "language": "python",
   "name": "python3"
  },
  "language_info": {
   "codemirror_mode": {
    "name": "ipython",
    "version": 3
   },
   "file_extension": ".py",
   "mimetype": "text/x-python",
   "name": "python",
   "nbconvert_exporter": "python",
   "pygments_lexer": "ipython3",
   "version": "3.10.2"
  },
  "orig_nbformat": 4
 },
 "nbformat": 4,
 "nbformat_minor": 2
}
