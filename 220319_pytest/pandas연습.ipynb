{
 "cells": [
  {
   "cell_type": "code",
   "execution_count": 2,
   "metadata": {},
   "outputs": [],
   "source": [
    "# pip list 설치된 모듈 리스트 확인\n",
    "# pandas의 기본 객체 series, DataFrame\n",
    "# series : 1차원(하나의 row or col)\n",
    "# DataFrame : 2차원(여러개의 row or col)\n",
    "# key(row), index(col), value"
   ]
  },
  {
   "cell_type": "code",
   "execution_count": 2,
   "metadata": {},
   "outputs": [
    {
     "name": "stdout",
     "output_type": "stream",
     "text": [
      "a    1\n",
      "b    2\n",
      "c    3\n",
      "d    4\n",
      "e    5\n",
      "dtype: int64\n"
     ]
    }
   ],
   "source": [
    "import pandas as pd\n",
    "\n",
    "s = pd.Series([1,2,3,4,5])\n",
    "s = pd.Series([1,2,3,4,5], index=['a','b','c','d','e']) # index 변경\n",
    "print(s)"
   ]
  },
  {
   "cell_type": "code",
   "execution_count": 3,
   "metadata": {},
   "outputs": [
    {
     "name": "stdout",
     "output_type": "stream",
     "text": [
      "[1 2 3]\n",
      "[0 0 0]\n",
      "[[1. 1. 1.]\n",
      " [1. 1. 1.]]\n",
      "[1 2 3]\n",
      "[0 0 0]\n",
      "2.0\n",
      "[[0.65391326 0.00785419 0.15463362]\n",
      " [0.11598295 0.07352452 0.78854513]]\n",
      "[[ 0.93440592 -0.75200277  0.43858887]\n",
      " [ 0.81670596  0.22672128 -0.47818072]]\n",
      "3.141592653589793\n",
      "2.718281828459045\n",
      "[[1 2 3]\n",
      " [4 5 6]\n",
      " [7 8 9]]\n"
     ]
    }
   ],
   "source": [
    "import numpy as np\n",
    "\n",
    "a = np.array([1,2,3])\n",
    "print(a)\n",
    "\n",
    "# 0으로 채워진 array 만들기\n",
    "b = np.zeros(3,dtype=int)\n",
    "print(b)\n",
    "\n",
    "# 1로 채워진 array 만들기\n",
    "c = np.ones((2,3))\n",
    "print(c)\n",
    "\n",
    "# 두개의 array의 값들을 요소별로 더함\n",
    "sum = np.add(a,b)\n",
    "print(sum)\n",
    "\n",
    "# 두개의 array의 값들을 요소별로 곱해줌\n",
    "r = np.multiply(a,b)\n",
    "print(r)\n",
    "\n",
    "# array의 값들의 평균을 계산\n",
    "avg = np.mean(a)\n",
    "print(avg)\n",
    "\n",
    "# random 0~1 범위 내에서 균일한 분포를 갖는 숫자 샘플링\n",
    "rd = np.random.rand(2,3)\n",
    "print(rd)\n",
    "# 표준정규분포를 갖는 숫자 샘플링\n",
    "rdn = np.random.randn(2,3)\n",
    "print(rdn)\n",
    "\n",
    "# 원주율\n",
    "pi = np.pi\n",
    "print(pi)\n",
    "\n",
    "# 오일러상수\n",
    "e = np.e\n",
    "print(e)\n",
    "\n",
    "# 2차원배열\n",
    "ss = np.array([[1,2,3],[4,5,6],[7,8,9]])\n",
    "print(ss)"
   ]
  },
  {
   "cell_type": "code",
   "execution_count": 6,
   "metadata": {},
   "outputs": [
    {
     "name": "stdout",
     "output_type": "stream",
     "text": [
      "   과목번호 과목명\n",
      "0     1  국어\n",
      "1     2  영어\n",
      "2     3  수학\n"
     ]
    },
    {
     "name": "stderr",
     "output_type": "stream",
     "text": [
      "C:\\Users\\Administrator\\AppData\\Local\\Temp\\ipykernel_7728\\2998041949.py:13: FutureWarning: As the xlwt package is no longer maintained, the xlwt engine will be removed in a future version of pandas. This is the only engine in pandas that supports writing in the xls format. Install openpyxl and write to an xlsx file instead. You can set the option io.excel.xls.writer to 'xlwt' to silence this warning. While this option is deprecated and will also raise a warning, it can be globally set and the warning suppressed.\n",
      "  subject.to_excel(\"C:\\subject.xls\", index=False)\n"
     ]
    }
   ],
   "source": [
    "# pandas, numpy 사용\n",
    "no = [1,2,3]\n",
    "sjname = ['국어','영어','수학']\n",
    "# no.append(1)\n",
    "# no.append(2)\n",
    "\n",
    "# pandas DataFrame 생성\n",
    "subject = pd.DataFrame()\n",
    "subject['과목번호'] = no\n",
    "subject['과목명'] = sjname\n",
    "print(subject)\n",
    "\n",
    "subject.to_excel(\"C:\\subject.xls\", index=False)\n",
    "subject.to_csv(\"C:\\subject.csv\", encoding='utf-8-sig',index=False)"
   ]
  },
  {
   "cell_type": "code",
   "execution_count": 11,
   "metadata": {},
   "outputs": [
    {
     "name": "stdout",
     "output_type": "stream",
     "text": [
      "    이름  나이      성별\n",
      "0  홍길동  22    male\n",
      "1  홍길순  25  female\n",
      "2  임꺽정  30    male\n",
      "0    홍길동\n",
      "1    홍길순\n",
      "2    임꺽정\n",
      "Name: 이름, dtype: object\n",
      "0      male\n",
      "1    female\n",
      "2      male\n",
      "Name: 성별, dtype: object\n",
      "0    22\n",
      "1    35\n",
      "2    50\n",
      "Name: Age, dtype: int64\n",
      "    이름  나이      성별  고향\n",
      "0  홍길동  22    male  서울\n",
      "1  홍길순  25  female  대전\n",
      "2  임꺽정  30    male  전주\n"
     ]
    }
   ],
   "source": [
    "# 데이터 프레임은 파이썬의 리스트와 딕셔너리의 조합\n",
    "df = pd.DataFrame({\"이름\":[\"홍길동\",\"홍길순\",\"임꺽정\"],\"나이\":[22,25,30],\"성별\":[\"male\",\"female\",\"male\"]})\n",
    "\n",
    "# 전체 구조 출력\n",
    "print(df)\n",
    "\n",
    "# 데이터 프레임에서 이름 컬럼만 출력\n",
    "print(df[\"이름\"],df[\"성별\"],sep=\"\\n\")\n",
    "\n",
    "ages = pd.Series([22,35,50], name = \"Age\")\n",
    "print(ages)\n",
    "\n",
    "homes = pd.Series(['서울','대전','전주'],name = \"고향\")\n",
    "df[\"고향\"] = homes\n",
    "print(df)"
   ]
  },
  {
   "cell_type": "code",
   "execution_count": 19,
   "metadata": {},
   "outputs": [
    {
     "name": "stdout",
     "output_type": "stream",
     "text": [
      "최대 나이: 30\n",
      "최소 나이: 22\n",
      "평균 나이: 25.666666666666668\n",
      "              나이\n",
      "count   3.000000\n",
      "mean   25.666667\n",
      "std     4.041452\n",
      "min    22.000000\n",
      "25%    23.500000\n",
      "50%    25.000000\n",
      "75%    27.500000\n",
      "max    30.000000\n",
      "    이름  나이      성별  고향\n",
      "0  홍길동  22    male  서울\n",
      "1  홍길순  25  female  대전\n",
      "    이름  나이      성별  고향\n",
      "1  홍길순  25  female  대전\n",
      "2  임꺽정  30    male  전주\n"
     ]
    }
   ],
   "source": [
    "# 집계 함수(평균,최대,최소 등)\n",
    "print(\"최대 나이:\",df[\"나이\"].max())\n",
    "print(\"최소 나이:\",df[\"나이\"].min())\n",
    "print(\"평균 나이:\",df[\"나이\"].mean())\n",
    "\n",
    "# 기본 통계 작성\n",
    "print(df.describe())\n",
    "# 첫번째부터 n번째까지\n",
    "print(df.head(2))\n",
    "# 마지막부터 n번째까지\n",
    "print(df.tail(2))"
   ]
  },
  {
   "cell_type": "code",
   "execution_count": 58,
   "metadata": {},
   "outputs": [
    {
     "name": "stdout",
     "output_type": "stream",
     "text": [
      "손흥민 3건의 주문이 있습니다.\n",
      "손흥민 주문 상품 :  ['운동화' '스커트' '코트']\n",
      "스커트 주문자 : ['송혜교' '손흥민']\n",
      "최대 주문자 user id : user1 , name: 손흥민\n",
      "김지원 총 사용 금액 :  229900\n"
     ]
    }
   ],
   "source": [
    "df = pd.read_excel(\"order.xlsx\")\n",
    "\n",
    "# 1. 손흥민의 주문 개수는?\n",
    "c1 = df[\"name\"] == '손흥민'\n",
    "order_count = df[c1][\"name\"].count()\n",
    "print(\"손흥민 %d건의 주문이 있습니다.\" % order_count)\n",
    "# 2. 손흥민이 산 상품은? \n",
    "print(\"손흥민 주문 상품 : \",df[c1][\"product\"].values)\n",
    "# 3. 스커트를 산 사람은? \n",
    "c2 = df[\"product\"] == '스커트'\n",
    "print(\"스커트 주문자 :\",df[c2][\"name\"].values)\n",
    "# 4. 가장 많이 주문한 사람의 아이디와 이름, 주문개수는? \n",
    "# print(df.groupby([\"user_id\",\"name\"])[\"order_no\"].count())\n",
    "ndf = df.groupby([\"user_id\",\"name\"])[\"order_no\"].count().reset_index(name = \"count\")\n",
    "ndf = ndf.sort_values(\"count\", ascending = False)\n",
    "print(\"최대 주문자 user id :\",ndf.loc[0][0],\", name:\",ndf.loc[0][1])\n",
    "# 5. 김지원이 사용한 총 금액은? \n",
    "c4 = df[\"name\"] == '김지원'\n",
    "print(\"김지원 총 사용 금액 : \",df[c4][\"price\"].sum())"
   ]
  },
  {
   "cell_type": "code",
   "execution_count": null,
   "metadata": {},
   "outputs": [],
   "source": []
  }
 ],
 "metadata": {
  "interpreter": {
   "hash": "4e0b39fdc4f2df2992ef135d097972ec225e019845a073717c5b1bc8df292c8a"
  },
  "kernelspec": {
   "display_name": "Python 3.10.2 64-bit",
   "language": "python",
   "name": "python3"
  },
  "language_info": {
   "codemirror_mode": {
    "name": "ipython",
    "version": 3
   },
   "file_extension": ".py",
   "mimetype": "text/x-python",
   "name": "python",
   "nbconvert_exporter": "python",
   "pygments_lexer": "ipython3",
   "version": "3.10.2"
  },
  "orig_nbformat": 4
 },
 "nbformat": 4,
 "nbformat_minor": 2
}
