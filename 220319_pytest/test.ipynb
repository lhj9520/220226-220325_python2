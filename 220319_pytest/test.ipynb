{
 "cells": [
  {
   "cell_type": "code",
   "execution_count": 2,
   "metadata": {},
   "outputs": [],
   "source": [
    "# pip list 설치된 모듈 리스트 확인\n",
    "# pandas의 기본 객체 series, DataFrame\n",
    "# series : 1차원(하나의 row or col)\n",
    "# DataFrame : 2차원(여러개의 row or col)\n",
    "# key(row), index(col), value"
   ]
  },
  {
   "cell_type": "code",
   "execution_count": 2,
   "metadata": {},
   "outputs": [
    {
     "name": "stdout",
     "output_type": "stream",
     "text": [
      "a    1\n",
      "b    2\n",
      "c    3\n",
      "d    4\n",
      "e    5\n",
      "dtype: int64\n"
     ]
    }
   ],
   "source": [
    "import pandas as pd\n",
    "\n",
    "s = pd.Series([1,2,3,4,5])\n",
    "s = pd.Series([1,2,3,4,5], index=['a','b','c','d','e']) # index 변경\n",
    "print(s)"
   ]
  },
  {
   "cell_type": "code",
   "execution_count": 3,
   "metadata": {},
   "outputs": [
    {
     "name": "stdout",
     "output_type": "stream",
     "text": [
      "[1 2 3]\n",
      "[0 0 0]\n",
      "[[1. 1. 1.]\n",
      " [1. 1. 1.]]\n",
      "[1 2 3]\n",
      "[0 0 0]\n",
      "2.0\n",
      "[[0.73226899 0.14290965 0.87384487]\n",
      " [0.53250887 0.04069842 0.35185174]]\n",
      "[[ 0.98275192 -1.85369446  0.14752993]\n",
      " [ 0.26119893 -0.27303006 -2.61783187]]\n",
      "3.141592653589793\n",
      "2.718281828459045\n",
      "[[1 2 3]\n",
      " [4 5 6]\n",
      " [7 8 9]]\n"
     ]
    }
   ],
   "source": [
    "import numpy as np\n",
    "\n",
    "a = np.array([1,2,3])\n",
    "print(a)\n",
    "\n",
    "# 0으로 채워진 array 만들기\n",
    "b = np.zeros(3,dtype=int)\n",
    "print(b)\n",
    "\n",
    "# 1로 채워진 array 만들기\n",
    "c = np.ones((2,3))\n",
    "print(c)\n",
    "\n",
    "# 두개의 array의 값들을 요소별로 더함\n",
    "sum = np.add(a,b)\n",
    "print(sum)\n",
    "\n",
    "# 두개의 array의 값들을 요소별로 곱해줌\n",
    "r = np.multiply(a,b)\n",
    "print(r)\n",
    "\n",
    "# array의 값들의 평균을 계산\n",
    "avg = np.mean(a)\n",
    "print(avg)\n",
    "\n",
    "# random 0~1 범위 내에서 균일한 분포를 갖는 숫자 샘플링\n",
    "rd = np.random.rand(2,3)\n",
    "print(rd)\n",
    "# 표준정규분포를 갖는 숫자 샘플링\n",
    "rdn = np.random.randn(2,3)\n",
    "print(rdn)\n",
    "\n",
    "# 원주율\n",
    "pi = np.pi\n",
    "print(pi)\n",
    "\n",
    "# 오일러상수\n",
    "e = np.e\n",
    "print(e)\n",
    "\n",
    "# 2차원배열\n",
    "ss = np.array([[1,2,3],[4,5,6],[7,8,9]])\n",
    "print(ss)"
   ]
  },
  {
   "cell_type": "code",
   "execution_count": 6,
   "metadata": {},
   "outputs": [
    {
     "name": "stdout",
     "output_type": "stream",
     "text": [
      "   과목번호 과목명\n",
      "0     1  국어\n",
      "1     2  영어\n",
      "2     3  수학\n"
     ]
    },
    {
     "name": "stderr",
     "output_type": "stream",
     "text": [
      "C:\\Users\\Administrator\\AppData\\Local\\Temp\\ipykernel_7728\\2998041949.py:13: FutureWarning: As the xlwt package is no longer maintained, the xlwt engine will be removed in a future version of pandas. This is the only engine in pandas that supports writing in the xls format. Install openpyxl and write to an xlsx file instead. You can set the option io.excel.xls.writer to 'xlwt' to silence this warning. While this option is deprecated and will also raise a warning, it can be globally set and the warning suppressed.\n",
      "  subject.to_excel(\"C:\\subject.xls\", index=False)\n"
     ]
    }
   ],
   "source": [
    "# pandas, numpy 사용\n",
    "no = [1,2,3]\n",
    "sjname = ['국어','영어','수학']\n",
    "# no.append(1)\n",
    "# no.append(2)\n",
    "\n",
    "# pandas DataFrame 생성\n",
    "subject = pd.DataFrame()\n",
    "subject['과목번호'] = no\n",
    "subject['과목명'] = sjname\n",
    "print(subject)\n",
    "\n",
    "subject.to_excel(\"C:\\subject.xls\", index=False)\n",
    "subject.to_csv(\"C:\\subject.csv\", encoding='utf-8-sig',index=False)"
   ]
  },
  {
   "cell_type": "code",
   "execution_count": null,
   "metadata": {},
   "outputs": [],
   "source": []
  }
 ],
 "metadata": {
  "interpreter": {
   "hash": "4e0b39fdc4f2df2992ef135d097972ec225e019845a073717c5b1bc8df292c8a"
  },
  "kernelspec": {
   "display_name": "Python 3.10.2 64-bit",
   "language": "python",
   "name": "python3"
  },
  "language_info": {
   "codemirror_mode": {
    "name": "ipython",
    "version": 3
   },
   "file_extension": ".py",
   "mimetype": "text/x-python",
   "name": "python",
   "nbconvert_exporter": "python",
   "pygments_lexer": "ipython3",
   "version": "3.10.2"
  },
  "orig_nbformat": 4
 },
 "nbformat": 4,
 "nbformat_minor": 2
}
